{
 "cells": [
  {
   "cell_type": "code",
   "execution_count": 21,
   "metadata": {},
   "outputs": [],
   "source": [
    "import pandas as pd\n",
    "import xgboost as xgb\n",
    "from sklearn.model_selection import train_test_split\n",
    "from sklearn.metrics import mean_absolute_percentage_error, mean_squared_error, r2_score, explained_variance_score, mean_absolute_error\n",
    "import matplotlib.pyplot as plt\n",
    "import seaborn as sns\n"
   ]
  },
  {
   "cell_type": "code",
   "execution_count": 23,
   "metadata": {},
   "outputs": [],
   "source": [
    "# Load the data\n",
    "stock = pd.read_csv(\"LT.NS.csv\")\n",
    "data = stock\n"
   ]
  },
  {
   "cell_type": "code",
   "execution_count": 24,
   "metadata": {},
   "outputs": [
    {
     "data": {
      "text/html": [
       "<div>\n",
       "<style scoped>\n",
       "    .dataframe tbody tr th:only-of-type {\n",
       "        vertical-align: middle;\n",
       "    }\n",
       "\n",
       "    .dataframe tbody tr th {\n",
       "        vertical-align: top;\n",
       "    }\n",
       "\n",
       "    .dataframe thead th {\n",
       "        text-align: right;\n",
       "    }\n",
       "</style>\n",
       "<table border=\"1\" class=\"dataframe\">\n",
       "  <thead>\n",
       "    <tr style=\"text-align: right;\">\n",
       "      <th></th>\n",
       "      <th>Date</th>\n",
       "      <th>Open</th>\n",
       "      <th>High</th>\n",
       "      <th>Low</th>\n",
       "      <th>Close</th>\n",
       "      <th>Adj Close</th>\n",
       "      <th>Volume</th>\n",
       "    </tr>\n",
       "  </thead>\n",
       "  <tbody>\n",
       "    <tr>\n",
       "      <th>0</th>\n",
       "      <td>2022-01-03</td>\n",
       "      <td>1895.000000</td>\n",
       "      <td>1937.449951</td>\n",
       "      <td>1893.650024</td>\n",
       "      <td>1922.849976</td>\n",
       "      <td>1894.265625</td>\n",
       "      <td>1906676</td>\n",
       "    </tr>\n",
       "    <tr>\n",
       "      <th>1</th>\n",
       "      <td>2022-01-04</td>\n",
       "      <td>1922.849976</td>\n",
       "      <td>1943.000000</td>\n",
       "      <td>1914.550049</td>\n",
       "      <td>1937.550049</td>\n",
       "      <td>1908.747070</td>\n",
       "      <td>1643920</td>\n",
       "    </tr>\n",
       "    <tr>\n",
       "      <th>2</th>\n",
       "      <td>2022-01-05</td>\n",
       "      <td>1940.699951</td>\n",
       "      <td>1951.000000</td>\n",
       "      <td>1927.650024</td>\n",
       "      <td>1948.599976</td>\n",
       "      <td>1919.632812</td>\n",
       "      <td>1711667</td>\n",
       "    </tr>\n",
       "    <tr>\n",
       "      <th>3</th>\n",
       "      <td>2022-01-06</td>\n",
       "      <td>1944.500000</td>\n",
       "      <td>1953.000000</td>\n",
       "      <td>1919.599976</td>\n",
       "      <td>1924.500000</td>\n",
       "      <td>1895.891113</td>\n",
       "      <td>1372015</td>\n",
       "    </tr>\n",
       "    <tr>\n",
       "      <th>4</th>\n",
       "      <td>2022-01-07</td>\n",
       "      <td>1929.050049</td>\n",
       "      <td>1934.949951</td>\n",
       "      <td>1897.150024</td>\n",
       "      <td>1904.900024</td>\n",
       "      <td>1876.582520</td>\n",
       "      <td>1447123</td>\n",
       "    </tr>\n",
       "    <tr>\n",
       "      <th>...</th>\n",
       "      <td>...</td>\n",
       "      <td>...</td>\n",
       "      <td>...</td>\n",
       "      <td>...</td>\n",
       "      <td>...</td>\n",
       "      <td>...</td>\n",
       "      <td>...</td>\n",
       "    </tr>\n",
       "    <tr>\n",
       "      <th>511</th>\n",
       "      <td>2024-01-25</td>\n",
       "      <td>3599.899902</td>\n",
       "      <td>3618.250000</td>\n",
       "      <td>3564.800049</td>\n",
       "      <td>3593.449951</td>\n",
       "      <td>3593.449951</td>\n",
       "      <td>2206540</td>\n",
       "    </tr>\n",
       "    <tr>\n",
       "      <th>512</th>\n",
       "      <td>2024-01-29</td>\n",
       "      <td>3604.000000</td>\n",
       "      <td>3733.850098</td>\n",
       "      <td>3600.100098</td>\n",
       "      <td>3708.000000</td>\n",
       "      <td>3708.000000</td>\n",
       "      <td>2072982</td>\n",
       "    </tr>\n",
       "    <tr>\n",
       "      <th>513</th>\n",
       "      <td>2024-01-30</td>\n",
       "      <td>3715.949951</td>\n",
       "      <td>3737.899902</td>\n",
       "      <td>3624.899902</td>\n",
       "      <td>3633.300049</td>\n",
       "      <td>3633.300049</td>\n",
       "      <td>1454989</td>\n",
       "    </tr>\n",
       "    <tr>\n",
       "      <th>514</th>\n",
       "      <td>2024-01-31</td>\n",
       "      <td>3520.000000</td>\n",
       "      <td>3538.000000</td>\n",
       "      <td>3387.050049</td>\n",
       "      <td>3479.750000</td>\n",
       "      <td>3479.750000</td>\n",
       "      <td>9637606</td>\n",
       "    </tr>\n",
       "    <tr>\n",
       "      <th>515</th>\n",
       "      <td>2024-02-01</td>\n",
       "      <td>3480.000000</td>\n",
       "      <td>3493.750000</td>\n",
       "      <td>3371.000000</td>\n",
       "      <td>3398.000000</td>\n",
       "      <td>3398.000000</td>\n",
       "      <td>6149780</td>\n",
       "    </tr>\n",
       "  </tbody>\n",
       "</table>\n",
       "<p>516 rows × 7 columns</p>\n",
       "</div>"
      ],
      "text/plain": [
       "           Date         Open         High          Low        Close   \n",
       "0    2022-01-03  1895.000000  1937.449951  1893.650024  1922.849976  \\\n",
       "1    2022-01-04  1922.849976  1943.000000  1914.550049  1937.550049   \n",
       "2    2022-01-05  1940.699951  1951.000000  1927.650024  1948.599976   \n",
       "3    2022-01-06  1944.500000  1953.000000  1919.599976  1924.500000   \n",
       "4    2022-01-07  1929.050049  1934.949951  1897.150024  1904.900024   \n",
       "..          ...          ...          ...          ...          ...   \n",
       "511  2024-01-25  3599.899902  3618.250000  3564.800049  3593.449951   \n",
       "512  2024-01-29  3604.000000  3733.850098  3600.100098  3708.000000   \n",
       "513  2024-01-30  3715.949951  3737.899902  3624.899902  3633.300049   \n",
       "514  2024-01-31  3520.000000  3538.000000  3387.050049  3479.750000   \n",
       "515  2024-02-01  3480.000000  3493.750000  3371.000000  3398.000000   \n",
       "\n",
       "       Adj Close   Volume  \n",
       "0    1894.265625  1906676  \n",
       "1    1908.747070  1643920  \n",
       "2    1919.632812  1711667  \n",
       "3    1895.891113  1372015  \n",
       "4    1876.582520  1447123  \n",
       "..           ...      ...  \n",
       "511  3593.449951  2206540  \n",
       "512  3708.000000  2072982  \n",
       "513  3633.300049  1454989  \n",
       "514  3479.750000  9637606  \n",
       "515  3398.000000  6149780  \n",
       "\n",
       "[516 rows x 7 columns]"
      ]
     },
     "execution_count": 24,
     "metadata": {},
     "output_type": "execute_result"
    }
   ],
   "source": [
    "data"
   ]
  },
  {
   "cell_type": "code",
   "execution_count": 26,
   "metadata": {},
   "outputs": [],
   "source": [
    "# Split the data into features and target\n",
    "y = data['Close']\n",
    "X = data.drop(columns=['Date', 'Close'], axis=1)\n"
   ]
  },
  {
   "cell_type": "code",
   "execution_count": 27,
   "metadata": {},
   "outputs": [],
   "source": [
    "# Split the data into training and test sets\n",
    "X_train, X_test, y_train, y_test = train_test_split(X, y, test_size=0.2, random_state=42)\n"
   ]
  },
  {
   "cell_type": "code",
   "execution_count": 28,
   "metadata": {},
   "outputs": [
    {
     "data": {
      "text/html": [
       "<style>#sk-container-id-2 {color: black;background-color: white;}#sk-container-id-2 pre{padding: 0;}#sk-container-id-2 div.sk-toggleable {background-color: white;}#sk-container-id-2 label.sk-toggleable__label {cursor: pointer;display: block;width: 100%;margin-bottom: 0;padding: 0.3em;box-sizing: border-box;text-align: center;}#sk-container-id-2 label.sk-toggleable__label-arrow:before {content: \"▸\";float: left;margin-right: 0.25em;color: #696969;}#sk-container-id-2 label.sk-toggleable__label-arrow:hover:before {color: black;}#sk-container-id-2 div.sk-estimator:hover label.sk-toggleable__label-arrow:before {color: black;}#sk-container-id-2 div.sk-toggleable__content {max-height: 0;max-width: 0;overflow: hidden;text-align: left;background-color: #f0f8ff;}#sk-container-id-2 div.sk-toggleable__content pre {margin: 0.2em;color: black;border-radius: 0.25em;background-color: #f0f8ff;}#sk-container-id-2 input.sk-toggleable__control:checked~div.sk-toggleable__content {max-height: 200px;max-width: 100%;overflow: auto;}#sk-container-id-2 input.sk-toggleable__control:checked~label.sk-toggleable__label-arrow:before {content: \"▾\";}#sk-container-id-2 div.sk-estimator input.sk-toggleable__control:checked~label.sk-toggleable__label {background-color: #d4ebff;}#sk-container-id-2 div.sk-label input.sk-toggleable__control:checked~label.sk-toggleable__label {background-color: #d4ebff;}#sk-container-id-2 input.sk-hidden--visually {border: 0;clip: rect(1px 1px 1px 1px);clip: rect(1px, 1px, 1px, 1px);height: 1px;margin: -1px;overflow: hidden;padding: 0;position: absolute;width: 1px;}#sk-container-id-2 div.sk-estimator {font-family: monospace;background-color: #f0f8ff;border: 1px dotted black;border-radius: 0.25em;box-sizing: border-box;margin-bottom: 0.5em;}#sk-container-id-2 div.sk-estimator:hover {background-color: #d4ebff;}#sk-container-id-2 div.sk-parallel-item::after {content: \"\";width: 100%;border-bottom: 1px solid gray;flex-grow: 1;}#sk-container-id-2 div.sk-label:hover label.sk-toggleable__label {background-color: #d4ebff;}#sk-container-id-2 div.sk-serial::before {content: \"\";position: absolute;border-left: 1px solid gray;box-sizing: border-box;top: 0;bottom: 0;left: 50%;z-index: 0;}#sk-container-id-2 div.sk-serial {display: flex;flex-direction: column;align-items: center;background-color: white;padding-right: 0.2em;padding-left: 0.2em;position: relative;}#sk-container-id-2 div.sk-item {position: relative;z-index: 1;}#sk-container-id-2 div.sk-parallel {display: flex;align-items: stretch;justify-content: center;background-color: white;position: relative;}#sk-container-id-2 div.sk-item::before, #sk-container-id-2 div.sk-parallel-item::before {content: \"\";position: absolute;border-left: 1px solid gray;box-sizing: border-box;top: 0;bottom: 0;left: 50%;z-index: -1;}#sk-container-id-2 div.sk-parallel-item {display: flex;flex-direction: column;z-index: 1;position: relative;background-color: white;}#sk-container-id-2 div.sk-parallel-item:first-child::after {align-self: flex-end;width: 50%;}#sk-container-id-2 div.sk-parallel-item:last-child::after {align-self: flex-start;width: 50%;}#sk-container-id-2 div.sk-parallel-item:only-child::after {width: 0;}#sk-container-id-2 div.sk-dashed-wrapped {border: 1px dashed gray;margin: 0 0.4em 0.5em 0.4em;box-sizing: border-box;padding-bottom: 0.4em;background-color: white;}#sk-container-id-2 div.sk-label label {font-family: monospace;font-weight: bold;display: inline-block;line-height: 1.2em;}#sk-container-id-2 div.sk-label-container {text-align: center;}#sk-container-id-2 div.sk-container {/* jupyter's `normalize.less` sets `[hidden] { display: none; }` but bootstrap.min.css set `[hidden] { display: none !important; }` so we also need the `!important` here to be able to override the default hidden behavior on the sphinx rendered scikit-learn.org. See: https://github.com/scikit-learn/scikit-learn/issues/21755 */display: inline-block !important;position: relative;}#sk-container-id-2 div.sk-text-repr-fallback {display: none;}</style><div id=\"sk-container-id-2\" class=\"sk-top-container\"><div class=\"sk-text-repr-fallback\"><pre>XGBRegressor(base_score=None, booster=&#x27;gbtree&#x27;, callbacks=None,\n",
       "             colsample_bylevel=None, colsample_bynode=None,\n",
       "             colsample_bytree=None, device=None, early_stopping_rounds=None,\n",
       "             enable_categorical=False, eval_metric=None, feature_types=None,\n",
       "             gamma=None, grow_policy=None, importance_type=None,\n",
       "             interaction_constraints=None, learning_rate=None, max_bin=None,\n",
       "             max_cat_threshold=None, max_cat_to_onehot=None,\n",
       "             max_delta_step=None, max_depth=None, max_leaves=None,\n",
       "             min_child_weight=None, missing=nan, monotone_constraints=None,\n",
       "             multi_strategy=None, n_estimators=None, n_jobs=None,\n",
       "             num_parallel_tree=None, random_state=42, ...)</pre><b>In a Jupyter environment, please rerun this cell to show the HTML representation or trust the notebook. <br />On GitHub, the HTML representation is unable to render, please try loading this page with nbviewer.org.</b></div><div class=\"sk-container\" hidden><div class=\"sk-item\"><div class=\"sk-estimator sk-toggleable\"><input class=\"sk-toggleable__control sk-hidden--visually\" id=\"sk-estimator-id-2\" type=\"checkbox\" checked><label for=\"sk-estimator-id-2\" class=\"sk-toggleable__label sk-toggleable__label-arrow\">XGBRegressor</label><div class=\"sk-toggleable__content\"><pre>XGBRegressor(base_score=None, booster=&#x27;gbtree&#x27;, callbacks=None,\n",
       "             colsample_bylevel=None, colsample_bynode=None,\n",
       "             colsample_bytree=None, device=None, early_stopping_rounds=None,\n",
       "             enable_categorical=False, eval_metric=None, feature_types=None,\n",
       "             gamma=None, grow_policy=None, importance_type=None,\n",
       "             interaction_constraints=None, learning_rate=None, max_bin=None,\n",
       "             max_cat_threshold=None, max_cat_to_onehot=None,\n",
       "             max_delta_step=None, max_depth=None, max_leaves=None,\n",
       "             min_child_weight=None, missing=nan, monotone_constraints=None,\n",
       "             multi_strategy=None, n_estimators=None, n_jobs=None,\n",
       "             num_parallel_tree=None, random_state=42, ...)</pre></div></div></div></div></div>"
      ],
      "text/plain": [
       "XGBRegressor(base_score=None, booster='gbtree', callbacks=None,\n",
       "             colsample_bylevel=None, colsample_bynode=None,\n",
       "             colsample_bytree=None, device=None, early_stopping_rounds=None,\n",
       "             enable_categorical=False, eval_metric=None, feature_types=None,\n",
       "             gamma=None, grow_policy=None, importance_type=None,\n",
       "             interaction_constraints=None, learning_rate=None, max_bin=None,\n",
       "             max_cat_threshold=None, max_cat_to_onehot=None,\n",
       "             max_delta_step=None, max_depth=None, max_leaves=None,\n",
       "             min_child_weight=None, missing=nan, monotone_constraints=None,\n",
       "             multi_strategy=None, n_estimators=None, n_jobs=None,\n",
       "             num_parallel_tree=None, random_state=42, ...)"
      ]
     },
     "execution_count": 28,
     "metadata": {},
     "output_type": "execute_result"
    }
   ],
   "source": [
    "# Train an XGBoost model\n",
    "model = xgb.XGBRegressor(objective='reg:squarederror', random_state=42, booster='gbtree')\n",
    "model.fit(X_train, y_train)\n"
   ]
  },
  {
   "cell_type": "code",
   "execution_count": 29,
   "metadata": {},
   "outputs": [],
   "source": [
    "# Predict on the test set\n",
    "y_pred = model.predict(X_test)\n"
   ]
  },
  {
   "cell_type": "code",
   "execution_count": 30,
   "metadata": {},
   "outputs": [],
   "source": [
    "# Add predicted prices to test data\n",
    "predicted_prices = X_test.copy()\n",
    "predicted_prices['Close'] = y_pred\n"
   ]
  },
  {
   "cell_type": "code",
   "execution_count": 31,
   "metadata": {},
   "outputs": [
    {
     "name": "stdout",
     "output_type": "stream",
     "text": [
      "MAPE: 0.005523256596424297\n",
      "Mean squared error: 440.6325844672434\n",
      "Root mean squared error: 20.991250188286628\n",
      "Mean absolute error: 12.78890521709734\n",
      "R-squared: 0.998680273587549\n",
      "Explained variance: 0.998808273318482\n"
     ]
    }
   ],
   "source": [
    "# Calculate evaluation metrics\n",
    "mape = mean_absolute_percentage_error(y_test, y_pred)\n",
    "mse = mean_squared_error(y_test, y_pred)\n",
    "rmse = mean_squared_error(y_test, y_pred, squared=False)\n",
    "mae = mean_absolute_error(y_test, y_pred)\n",
    "r2 = r2_score(y_test, y_pred)\n",
    "explained_var = explained_variance_score(y_test, y_pred)\n",
    "\n",
    "# Print the evaluation metrics and directional accuracy\n",
    "print(\"MAPE:\", mape)\n",
    "print(\"Mean squared error:\", mse)\n",
    "print(\"Root mean squared error:\", rmse)\n",
    "print(\"Mean absolute error:\", mae)\n",
    "print(\"R-squared:\", r2)\n",
    "print(\"Explained variance:\", explained_var)\n"
   ]
  },
  {
   "cell_type": "code",
   "execution_count": 44,
   "metadata": {},
   "outputs": [
    {
     "name": "stdout",
     "output_type": "stream",
     "text": [
      "Next day predicted close: 3398.1218\n"
     ]
    }
   ],
   "source": [
    "# Predict the next day close\n",
    "next_day = X.tail(1)\n",
    "next_day_pred = model.predict(next_day)\n",
    "next_day_close = next_day_pred[0]\n",
    "print(\"Next day predicted close:\", next_day_close)\n"
   ]
  },
  {
   "cell_type": "code",
   "execution_count": 48,
   "metadata": {},
   "outputs": [
    {
     "name": "stdout",
     "output_type": "stream",
     "text": [
      "Prediction for the day 2  is: 3479.7307\n",
      "Prediction for the day 3  is: 3633.3237\n",
      "Prediction for the day 4  is: 3579.0825\n",
      "Prediction for the day 5  is: 3580.3223\n",
      "Prediction for the day 6  is: 3589.0361\n",
      "Prediction for the day 7  is: 3551.22\n",
      "Prediction for the day 8  is: 3584.3396\n",
      "Prediction for the day 9  is: 3582.502\n",
      "Prediction for the day 10  is: 3580.5398\n",
      "Prediction for the day 11  is: 3570.9387\n",
      "Prediction for the day 12  is: 3573.3943\n",
      "Prediction for the day 13  is: 3553.1624\n",
      "Prediction for the day 14  is: 3550.5425\n",
      "Prediction for the day 15  is: 3504.9507\n",
      "Prediction for the day 16  is: 3542.1792\n",
      "Prediction for the day 17  is: 3556.0232\n",
      "Prediction for the day 18  is: 3501.0027\n",
      "Prediction for the day 19  is: 3521.774\n",
      "Prediction for the day 20  is: 3458.4827\n",
      "Prediction for the day 21  is: 3440.7961\n",
      "Prediction for the day 22  is: 3438.2166\n",
      "Prediction for the day 23  is: 3525.2615\n",
      "Prediction for the day 24  is: 3526.5286\n",
      "Prediction for the day 25  is: 3518.1025\n",
      "Prediction for the day 26  is: 3543.8213\n",
      "Prediction for the day 27  is: 3490.085\n",
      "Prediction for the day 28  is: 3462.7395\n",
      "Prediction for the day 29  is: 3423.4543\n",
      "Prediction for the day 30  is: 3440.5098\n",
      "Prediction for the day 31  is: 3498.0176\n",
      "Prediction for the day 32  is: 3491.595\n",
      "Prediction for the day 33  is: 3488.0286\n",
      "Prediction for the day 34  is: 3433.8853\n",
      "Prediction for the day 35  is: 3399.802\n",
      "Prediction for the day 36  is: 3343.261\n",
      "Prediction for the day 37  is: 3386.0244\n",
      "Prediction for the day 38  is: 3378.4377\n",
      "Prediction for the day 39  is: 3355.327\n",
      "Prediction for the day 40  is: 3361.2932\n",
      "Prediction for the day 41  is: 3314.283\n",
      "Prediction for the day 42  is: 3312.8809\n",
      "Prediction for the day 43  is: 3192.073\n",
      "Prediction for the day 44  is: 3109.2905\n",
      "Prediction for the day 45  is: 3083.535\n",
      "Prediction for the day 46  is: 3049.1016\n",
      "Prediction for the day 47  is: 3044.568\n",
      "Prediction for the day 48  is: 3045.4167\n",
      "Prediction for the day 49  is: 3081.7395\n",
      "Prediction for the day 50  is: 3075.3325\n",
      "Prediction for the day 51  is: 3083.5376\n",
      "Prediction for the day 52  is: 3108.99\n",
      "Prediction for the day 53  is: 3051.117\n",
      "Prediction for the day 54  is: 3066.0361\n",
      "Prediction for the day 55  is: 3048.4888\n",
      "Prediction for the day 56  is: 3033.3354\n",
      "Prediction for the day 57  is: 3024.7097\n",
      "Prediction for the day 58  is: 2995.9421\n",
      "Prediction for the day 59  is: 2960.6138\n"
     ]
    }
   ],
   "source": [
    "for i in range(2,60):\n",
    "    # Predict the next day close\n",
    "    next_day = X.tail(i)\n",
    "    next_day_pred = model.predict(next_day)\n",
    "    next_day_close = next_day_pred[0]\n",
    "    print(\"Prediction for the day\",i,\" is:\", next_day_close)\n"
   ]
  },
  {
   "cell_type": "code",
   "execution_count": null,
   "metadata": {},
   "outputs": [],
   "source": []
  }
 ],
 "metadata": {
  "kernelspec": {
   "display_name": "Python 3",
   "language": "python",
   "name": "python3"
  },
  "language_info": {
   "codemirror_mode": {
    "name": "ipython",
    "version": 3
   },
   "file_extension": ".py",
   "mimetype": "text/x-python",
   "name": "python",
   "nbconvert_exporter": "python",
   "pygments_lexer": "ipython3",
   "version": "3.10.10"
  }
 },
 "nbformat": 4,
 "nbformat_minor": 2
}
